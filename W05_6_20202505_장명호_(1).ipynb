{
  "nbformat": 4,
  "nbformat_minor": 0,
  "metadata": {
    "colab": {
      "provenance": [],
      "include_colab_link": true
    },
    "kernelspec": {
      "name": "python3",
      "display_name": "Python 3"
    },
    "language_info": {
      "name": "python"
    }
  },
  "cells": [
    {
      "cell_type": "markdown",
      "metadata": {
        "id": "view-in-github",
        "colab_type": "text"
      },
      "source": [
        "<a href=\"https://colab.research.google.com/github/jmh0411/Stats_SPR2025/blob/main/W05_6_20202505_%EC%9E%A5%EB%AA%85%ED%98%B8_(1).ipynb\" target=\"_parent\"><img src=\"https://colab.research.google.com/assets/colab-badge.svg\" alt=\"Open In Colab\"/></a>"
      ]
    },
    {
      "cell_type": "code",
      "execution_count": null,
      "metadata": {
        "id": "Ws-4Egl3l4BR"
      },
      "outputs": [],
      "source": [
        "import statsmodels.formula.api as smf\n"
      ]
    },
    {
      "cell_type": "code",
      "source": [
        "import pandas as pd\n",
        "df2 = pd.read_csv('survey.csv')"
      ],
      "metadata": {
        "id": "qUD3r3HxrGTN"
      },
      "execution_count": null,
      "outputs": []
    },
    {
      "cell_type": "code",
      "source": [
        "model = smf.ols(formula = 'jobSatisfaction~English', data = df2)\n",
        "result= model.fit()"
      ],
      "metadata": {
        "id": "EjJ-6awVrMLl"
      },
      "execution_count": null,
      "outputs": []
    },
    {
      "cell_type": "code",
      "source": [
        "print(result.summary())"
      ],
      "metadata": {
        "colab": {
          "base_uri": "https://localhost:8080/"
        },
        "id": "wsvUYJgirqjV",
        "outputId": "90269f3a-ab3e-4c7b-df67-45d87e2b34f8"
      },
      "execution_count": null,
      "outputs": [
        {
          "output_type": "stream",
          "name": "stdout",
          "text": [
            "                            OLS Regression Results                            \n",
            "==============================================================================\n",
            "Dep. Variable:        jobSatisfaction   R-squared:                       0.097\n",
            "Model:                            OLS   Adj. R-squared:                  0.054\n",
            "Method:                 Least Squares   F-statistic:                     2.266\n",
            "Date:                Tue, 13 May 2025   Prob (F-statistic):              0.147\n",
            "Time:                        12:46:42   Log-Likelihood:                -36.243\n",
            "No. Observations:                  23   AIC:                             76.49\n",
            "Df Residuals:                      21   BIC:                             78.76\n",
            "Df Model:                           1                                         \n",
            "Covariance Type:            nonrobust                                         \n",
            "==============================================================================\n",
            "                 coef    std err          t      P>|t|      [0.025      0.975]\n",
            "------------------------------------------------------------------------------\n",
            "Intercept      5.7052      1.615      3.532      0.002       2.346       9.065\n",
            "English       -0.0039      0.003     -1.505      0.147      -0.009       0.002\n",
            "==============================================================================\n",
            "Omnibus:                        0.120   Durbin-Watson:                   0.777\n",
            "Prob(Omnibus):                  0.942   Jarque-Bera (JB):                0.306\n",
            "Skew:                          -0.126   Prob(JB):                        0.858\n",
            "Kurtosis:                       2.495   Cond. No.                     3.90e+03\n",
            "==============================================================================\n",
            "\n",
            "Notes:\n",
            "[1] Standard Errors assume that the covariance matrix of the errors is correctly specified.\n",
            "[2] The condition number is large, 3.9e+03. This might indicate that there are\n",
            "strong multicollinearity or other numerical problems.\n"
          ]
        }
      ]
    },
    {
      "cell_type": "code",
      "source": [
        "model2 = smf.ols(formula = 'jobSatisfaction~English + stress + income', data = df2)\n",
        "result= model2.fit()\n",
        "print(result.summary())"
      ],
      "metadata": {
        "colab": {
          "base_uri": "https://localhost:8080/"
        },
        "id": "goAstV77r4ud",
        "outputId": "9663ade6-9de4-41da-fe97-deaef610eb7e"
      },
      "execution_count": null,
      "outputs": [
        {
          "output_type": "stream",
          "name": "stdout",
          "text": [
            "                            OLS Regression Results                            \n",
            "==============================================================================\n",
            "Dep. Variable:        jobSatisfaction   R-squared:                       0.187\n",
            "Model:                            OLS   Adj. R-squared:                  0.059\n",
            "Method:                 Least Squares   F-statistic:                     1.458\n",
            "Date:                Tue, 13 May 2025   Prob (F-statistic):              0.258\n",
            "Time:                        12:49:42   Log-Likelihood:                -35.038\n",
            "No. Observations:                  23   AIC:                             78.08\n",
            "Df Residuals:                      19   BIC:                             82.62\n",
            "Df Model:                           3                                         \n",
            "Covariance Type:            nonrobust                                         \n",
            "==============================================================================\n",
            "                 coef    std err          t      P>|t|      [0.025      0.975]\n",
            "------------------------------------------------------------------------------\n",
            "Intercept      4.9159      1.712      2.871      0.010       1.333       8.499\n",
            "English       -0.0064      0.003     -1.931      0.069      -0.013       0.001\n",
            "stress         0.2141      0.187      1.145      0.266      -0.177       0.606\n",
            "income         0.0004      0.000      1.125      0.275      -0.000       0.001\n",
            "==============================================================================\n",
            "Omnibus:                        0.278   Durbin-Watson:                   0.989\n",
            "Prob(Omnibus):                  0.870   Jarque-Bera (JB):                0.457\n",
            "Skew:                          -0.036   Prob(JB):                        0.796\n",
            "Kurtosis:                       2.313   Cond. No.                     3.00e+04\n",
            "==============================================================================\n",
            "\n",
            "Notes:\n",
            "[1] Standard Errors assume that the covariance matrix of the errors is correctly specified.\n",
            "[2] The condition number is large,  3e+04. This might indicate that there are\n",
            "strong multicollinearity or other numerical problems.\n"
          ]
        }
      ]
    },
    {
      "cell_type": "code",
      "source": [
        "df2[['income', 'English', 'stress']].corr()"
      ],
      "metadata": {
        "colab": {
          "base_uri": "https://localhost:8080/",
          "height": 143
        },
        "id": "McXc9vIDssTt",
        "outputId": "0c1cad49-7729-44eb-88e6-cc1ca80f2e2a"
      },
      "execution_count": null,
      "outputs": [
        {
          "output_type": "execute_result",
          "data": {
            "text/plain": [
              "           income   English    stress\n",
              "income   1.000000  0.599452 -0.137920\n",
              "English  0.599452  1.000000  0.073351\n",
              "stress  -0.137920  0.073351  1.000000"
            ],
            "text/html": [
              "\n",
              "  <div id=\"df-3402dbc4-38dc-4fe6-829f-eb43ddc296b9\" class=\"colab-df-container\">\n",
              "    <div>\n",
              "<style scoped>\n",
              "    .dataframe tbody tr th:only-of-type {\n",
              "        vertical-align: middle;\n",
              "    }\n",
              "\n",
              "    .dataframe tbody tr th {\n",
              "        vertical-align: top;\n",
              "    }\n",
              "\n",
              "    .dataframe thead th {\n",
              "        text-align: right;\n",
              "    }\n",
              "</style>\n",
              "<table border=\"1\" class=\"dataframe\">\n",
              "  <thead>\n",
              "    <tr style=\"text-align: right;\">\n",
              "      <th></th>\n",
              "      <th>income</th>\n",
              "      <th>English</th>\n",
              "      <th>stress</th>\n",
              "    </tr>\n",
              "  </thead>\n",
              "  <tbody>\n",
              "    <tr>\n",
              "      <th>income</th>\n",
              "      <td>1.000000</td>\n",
              "      <td>0.599452</td>\n",
              "      <td>-0.137920</td>\n",
              "    </tr>\n",
              "    <tr>\n",
              "      <th>English</th>\n",
              "      <td>0.599452</td>\n",
              "      <td>1.000000</td>\n",
              "      <td>0.073351</td>\n",
              "    </tr>\n",
              "    <tr>\n",
              "      <th>stress</th>\n",
              "      <td>-0.137920</td>\n",
              "      <td>0.073351</td>\n",
              "      <td>1.000000</td>\n",
              "    </tr>\n",
              "  </tbody>\n",
              "</table>\n",
              "</div>\n",
              "    <div class=\"colab-df-buttons\">\n",
              "\n",
              "  <div class=\"colab-df-container\">\n",
              "    <button class=\"colab-df-convert\" onclick=\"convertToInteractive('df-3402dbc4-38dc-4fe6-829f-eb43ddc296b9')\"\n",
              "            title=\"Convert this dataframe to an interactive table.\"\n",
              "            style=\"display:none;\">\n",
              "\n",
              "  <svg xmlns=\"http://www.w3.org/2000/svg\" height=\"24px\" viewBox=\"0 -960 960 960\">\n",
              "    <path d=\"M120-120v-720h720v720H120Zm60-500h600v-160H180v160Zm220 220h160v-160H400v160Zm0 220h160v-160H400v160ZM180-400h160v-160H180v160Zm440 0h160v-160H620v160ZM180-180h160v-160H180v160Zm440 0h160v-160H620v160Z\"/>\n",
              "  </svg>\n",
              "    </button>\n",
              "\n",
              "  <style>\n",
              "    .colab-df-container {\n",
              "      display:flex;\n",
              "      gap: 12px;\n",
              "    }\n",
              "\n",
              "    .colab-df-convert {\n",
              "      background-color: #E8F0FE;\n",
              "      border: none;\n",
              "      border-radius: 50%;\n",
              "      cursor: pointer;\n",
              "      display: none;\n",
              "      fill: #1967D2;\n",
              "      height: 32px;\n",
              "      padding: 0 0 0 0;\n",
              "      width: 32px;\n",
              "    }\n",
              "\n",
              "    .colab-df-convert:hover {\n",
              "      background-color: #E2EBFA;\n",
              "      box-shadow: 0px 1px 2px rgba(60, 64, 67, 0.3), 0px 1px 3px 1px rgba(60, 64, 67, 0.15);\n",
              "      fill: #174EA6;\n",
              "    }\n",
              "\n",
              "    .colab-df-buttons div {\n",
              "      margin-bottom: 4px;\n",
              "    }\n",
              "\n",
              "    [theme=dark] .colab-df-convert {\n",
              "      background-color: #3B4455;\n",
              "      fill: #D2E3FC;\n",
              "    }\n",
              "\n",
              "    [theme=dark] .colab-df-convert:hover {\n",
              "      background-color: #434B5C;\n",
              "      box-shadow: 0px 1px 3px 1px rgba(0, 0, 0, 0.15);\n",
              "      filter: drop-shadow(0px 1px 2px rgba(0, 0, 0, 0.3));\n",
              "      fill: #FFFFFF;\n",
              "    }\n",
              "  </style>\n",
              "\n",
              "    <script>\n",
              "      const buttonEl =\n",
              "        document.querySelector('#df-3402dbc4-38dc-4fe6-829f-eb43ddc296b9 button.colab-df-convert');\n",
              "      buttonEl.style.display =\n",
              "        google.colab.kernel.accessAllowed ? 'block' : 'none';\n",
              "\n",
              "      async function convertToInteractive(key) {\n",
              "        const element = document.querySelector('#df-3402dbc4-38dc-4fe6-829f-eb43ddc296b9');\n",
              "        const dataTable =\n",
              "          await google.colab.kernel.invokeFunction('convertToInteractive',\n",
              "                                                    [key], {});\n",
              "        if (!dataTable) return;\n",
              "\n",
              "        const docLinkHtml = 'Like what you see? Visit the ' +\n",
              "          '<a target=\"_blank\" href=https://colab.research.google.com/notebooks/data_table.ipynb>data table notebook</a>'\n",
              "          + ' to learn more about interactive tables.';\n",
              "        element.innerHTML = '';\n",
              "        dataTable['output_type'] = 'display_data';\n",
              "        await google.colab.output.renderOutput(dataTable, element);\n",
              "        const docLink = document.createElement('div');\n",
              "        docLink.innerHTML = docLinkHtml;\n",
              "        element.appendChild(docLink);\n",
              "      }\n",
              "    </script>\n",
              "  </div>\n",
              "\n",
              "\n",
              "    <div id=\"df-0ba1e173-b570-4b05-89c4-5293cf8fb408\">\n",
              "      <button class=\"colab-df-quickchart\" onclick=\"quickchart('df-0ba1e173-b570-4b05-89c4-5293cf8fb408')\"\n",
              "                title=\"Suggest charts\"\n",
              "                style=\"display:none;\">\n",
              "\n",
              "<svg xmlns=\"http://www.w3.org/2000/svg\" height=\"24px\"viewBox=\"0 0 24 24\"\n",
              "     width=\"24px\">\n",
              "    <g>\n",
              "        <path d=\"M19 3H5c-1.1 0-2 .9-2 2v14c0 1.1.9 2 2 2h14c1.1 0 2-.9 2-2V5c0-1.1-.9-2-2-2zM9 17H7v-7h2v7zm4 0h-2V7h2v10zm4 0h-2v-4h2v4z\"/>\n",
              "    </g>\n",
              "</svg>\n",
              "      </button>\n",
              "\n",
              "<style>\n",
              "  .colab-df-quickchart {\n",
              "      --bg-color: #E8F0FE;\n",
              "      --fill-color: #1967D2;\n",
              "      --hover-bg-color: #E2EBFA;\n",
              "      --hover-fill-color: #174EA6;\n",
              "      --disabled-fill-color: #AAA;\n",
              "      --disabled-bg-color: #DDD;\n",
              "  }\n",
              "\n",
              "  [theme=dark] .colab-df-quickchart {\n",
              "      --bg-color: #3B4455;\n",
              "      --fill-color: #D2E3FC;\n",
              "      --hover-bg-color: #434B5C;\n",
              "      --hover-fill-color: #FFFFFF;\n",
              "      --disabled-bg-color: #3B4455;\n",
              "      --disabled-fill-color: #666;\n",
              "  }\n",
              "\n",
              "  .colab-df-quickchart {\n",
              "    background-color: var(--bg-color);\n",
              "    border: none;\n",
              "    border-radius: 50%;\n",
              "    cursor: pointer;\n",
              "    display: none;\n",
              "    fill: var(--fill-color);\n",
              "    height: 32px;\n",
              "    padding: 0;\n",
              "    width: 32px;\n",
              "  }\n",
              "\n",
              "  .colab-df-quickchart:hover {\n",
              "    background-color: var(--hover-bg-color);\n",
              "    box-shadow: 0 1px 2px rgba(60, 64, 67, 0.3), 0 1px 3px 1px rgba(60, 64, 67, 0.15);\n",
              "    fill: var(--button-hover-fill-color);\n",
              "  }\n",
              "\n",
              "  .colab-df-quickchart-complete:disabled,\n",
              "  .colab-df-quickchart-complete:disabled:hover {\n",
              "    background-color: var(--disabled-bg-color);\n",
              "    fill: var(--disabled-fill-color);\n",
              "    box-shadow: none;\n",
              "  }\n",
              "\n",
              "  .colab-df-spinner {\n",
              "    border: 2px solid var(--fill-color);\n",
              "    border-color: transparent;\n",
              "    border-bottom-color: var(--fill-color);\n",
              "    animation:\n",
              "      spin 1s steps(1) infinite;\n",
              "  }\n",
              "\n",
              "  @keyframes spin {\n",
              "    0% {\n",
              "      border-color: transparent;\n",
              "      border-bottom-color: var(--fill-color);\n",
              "      border-left-color: var(--fill-color);\n",
              "    }\n",
              "    20% {\n",
              "      border-color: transparent;\n",
              "      border-left-color: var(--fill-color);\n",
              "      border-top-color: var(--fill-color);\n",
              "    }\n",
              "    30% {\n",
              "      border-color: transparent;\n",
              "      border-left-color: var(--fill-color);\n",
              "      border-top-color: var(--fill-color);\n",
              "      border-right-color: var(--fill-color);\n",
              "    }\n",
              "    40% {\n",
              "      border-color: transparent;\n",
              "      border-right-color: var(--fill-color);\n",
              "      border-top-color: var(--fill-color);\n",
              "    }\n",
              "    60% {\n",
              "      border-color: transparent;\n",
              "      border-right-color: var(--fill-color);\n",
              "    }\n",
              "    80% {\n",
              "      border-color: transparent;\n",
              "      border-right-color: var(--fill-color);\n",
              "      border-bottom-color: var(--fill-color);\n",
              "    }\n",
              "    90% {\n",
              "      border-color: transparent;\n",
              "      border-bottom-color: var(--fill-color);\n",
              "    }\n",
              "  }\n",
              "</style>\n",
              "\n",
              "      <script>\n",
              "        async function quickchart(key) {\n",
              "          const quickchartButtonEl =\n",
              "            document.querySelector('#' + key + ' button');\n",
              "          quickchartButtonEl.disabled = true;  // To prevent multiple clicks.\n",
              "          quickchartButtonEl.classList.add('colab-df-spinner');\n",
              "          try {\n",
              "            const charts = await google.colab.kernel.invokeFunction(\n",
              "                'suggestCharts', [key], {});\n",
              "          } catch (error) {\n",
              "            console.error('Error during call to suggestCharts:', error);\n",
              "          }\n",
              "          quickchartButtonEl.classList.remove('colab-df-spinner');\n",
              "          quickchartButtonEl.classList.add('colab-df-quickchart-complete');\n",
              "        }\n",
              "        (() => {\n",
              "          let quickchartButtonEl =\n",
              "            document.querySelector('#df-0ba1e173-b570-4b05-89c4-5293cf8fb408 button');\n",
              "          quickchartButtonEl.style.display =\n",
              "            google.colab.kernel.accessAllowed ? 'block' : 'none';\n",
              "        })();\n",
              "      </script>\n",
              "    </div>\n",
              "\n",
              "    </div>\n",
              "  </div>\n"
            ],
            "application/vnd.google.colaboratory.intrinsic+json": {
              "type": "dataframe",
              "summary": "{\n  \"name\": \"df2[['income', 'English', 'stress']]\",\n  \"rows\": 3,\n  \"fields\": [\n    {\n      \"column\": \"income\",\n      \"properties\": {\n        \"dtype\": \"number\",\n        \"std\": 0.5772082600897223,\n        \"min\": -0.13791959796123446,\n        \"max\": 1.0,\n        \"num_unique_values\": 3,\n        \"samples\": [\n          1.0,\n          0.5994515069914599,\n          -0.13791959796123446\n        ],\n        \"semantic_type\": \"\",\n        \"description\": \"\"\n      }\n    },\n    {\n      \"column\": \"English\",\n      \"properties\": {\n        \"dtype\": \"number\",\n        \"std\": 0.4647398140873237,\n        \"min\": 0.07335121996967009,\n        \"max\": 1.0,\n        \"num_unique_values\": 3,\n        \"samples\": [\n          0.5994515069914599,\n          1.0,\n          0.07335121996967009\n        ],\n        \"semantic_type\": \"\",\n        \"description\": \"\"\n      }\n    },\n    {\n      \"column\": \"stress\",\n      \"properties\": {\n        \"dtype\": \"number\",\n        \"std\": 0.6052787693100798,\n        \"min\": -0.13791959796123446,\n        \"max\": 1.0,\n        \"num_unique_values\": 3,\n        \"samples\": [\n          -0.13791959796123446,\n          0.07335121996967009,\n          1.0\n        ],\n        \"semantic_type\": \"\",\n        \"description\": \"\"\n      }\n    }\n  ]\n}"
            }
          },
          "metadata": {},
          "execution_count": 11
        }
      ]
    },
    {
      "cell_type": "code",
      "source": [
        "model3 = smf.ols(formula = 'jobSatisfaction~English + stress', data = df2)\n",
        "result= model3.fit()\n",
        "print(result.summary())"
      ],
      "metadata": {
        "colab": {
          "base_uri": "https://localhost:8080/"
        },
        "id": "fl17B7entXpV",
        "outputId": "153ecd2d-5362-43b1-f5c1-1eb6efe7615f"
      },
      "execution_count": null,
      "outputs": [
        {
          "output_type": "stream",
          "name": "stdout",
          "text": [
            "                            OLS Regression Results                            \n",
            "==============================================================================\n",
            "Dep. Variable:        jobSatisfaction   R-squared:                       0.133\n",
            "Model:                            OLS   Adj. R-squared:                  0.046\n",
            "Method:                 Least Squares   F-statistic:                     1.534\n",
            "Date:                Tue, 13 May 2025   Prob (F-statistic):              0.240\n",
            "Time:                        12:54:09   Log-Likelihood:                -35.780\n",
            "No. Observations:                  23   AIC:                             77.56\n",
            "Df Residuals:                      20   BIC:                             80.97\n",
            "Df Model:                           2                                         \n",
            "Covariance Type:            nonrobust                                         \n",
            "==============================================================================\n",
            "                 coef    std err          t      P>|t|      [0.025      0.975]\n",
            "------------------------------------------------------------------------------\n",
            "Intercept      5.2556      1.696      3.098      0.006       1.717       8.794\n",
            "English       -0.0041      0.003     -1.561      0.134      -0.010       0.001\n",
            "stress         0.1662      0.183      0.906      0.375      -0.216       0.549\n",
            "==============================================================================\n",
            "Omnibus:                        0.575   Durbin-Watson:                   0.816\n",
            "Prob(Omnibus):                  0.750   Jarque-Bera (JB):                0.362\n",
            "Skew:                          -0.293   Prob(JB):                        0.834\n",
            "Kurtosis:                       2.812   Cond. No.                     4.08e+03\n",
            "==============================================================================\n",
            "\n",
            "Notes:\n",
            "[1] Standard Errors assume that the covariance matrix of the errors is correctly specified.\n",
            "[2] The condition number is large, 4.08e+03. This might indicate that there are\n",
            "strong multicollinearity or other numerical problems.\n"
          ]
        }
      ]
    },
    {
      "cell_type": "code",
      "source": [
        "model4 = smf.ols(formula = 'jobSatisfaction~English + income', data = df2)\n",
        "result= model4.fit()\n",
        "print(result.summary())"
      ],
      "metadata": {
        "colab": {
          "base_uri": "https://localhost:8080/"
        },
        "id": "2wqMQ4h0tHw-",
        "outputId": "5c0d89a6-d257-4911-de53-6b00e296f2e8"
      },
      "execution_count": null,
      "outputs": [
        {
          "output_type": "stream",
          "name": "stdout",
          "text": [
            "                            OLS Regression Results                            \n",
            "==============================================================================\n",
            "Dep. Variable:        jobSatisfaction   R-squared:                       0.131\n",
            "Model:                            OLS   Adj. R-squared:                  0.044\n",
            "Method:                 Least Squares   F-statistic:                     1.509\n",
            "Date:                Tue, 13 May 2025   Prob (F-statistic):              0.245\n",
            "Time:                        12:53:44   Log-Likelihood:                -35.805\n",
            "No. Observations:                  23   AIC:                             77.61\n",
            "Df Residuals:                      20   BIC:                             81.02\n",
            "Df Model:                           2                                         \n",
            "Covariance Type:            nonrobust                                         \n",
            "==============================================================================\n",
            "                 coef    std err          t      P>|t|      [0.025      0.975]\n",
            "------------------------------------------------------------------------------\n",
            "Intercept      5.5439      1.634      3.392      0.003       2.135       8.953\n",
            "English       -0.0057      0.003     -1.726      0.100      -0.013       0.001\n",
            "income         0.0003      0.000      0.881      0.389      -0.000       0.001\n",
            "==============================================================================\n",
            "Omnibus:                        1.114   Durbin-Watson:                   0.875\n",
            "Prob(Omnibus):                  0.573   Jarque-Bera (JB):                0.856\n",
            "Skew:                           0.145   Prob(JB):                        0.652\n",
            "Kurtosis:                       2.101   Cond. No.                     2.84e+04\n",
            "==============================================================================\n",
            "\n",
            "Notes:\n",
            "[1] Standard Errors assume that the covariance matrix of the errors is correctly specified.\n",
            "[2] The condition number is large, 2.84e+04. This might indicate that there are\n",
            "strong multicollinearity or other numerical problems.\n"
          ]
        }
      ]
    },
    {
      "cell_type": "code",
      "source": [
        "model5 = smf.ols(formula = 'jobSatisfaction~stress + income', data = df2)\n",
        "result= model5.fit()\n",
        "print(result.summary())"
      ],
      "metadata": {
        "colab": {
          "base_uri": "https://localhost:8080/"
        },
        "id": "Bu5WHUZbtb5V",
        "outputId": "879e68af-5a7b-4431-ad03-5e92adebef46"
      },
      "execution_count": null,
      "outputs": [
        {
          "output_type": "stream",
          "name": "stdout",
          "text": [
            "                            OLS Regression Results                            \n",
            "==============================================================================\n",
            "Dep. Variable:        jobSatisfaction   R-squared:                       0.028\n",
            "Model:                            OLS   Adj. R-squared:                 -0.070\n",
            "Method:                 Least Squares   F-statistic:                    0.2843\n",
            "Date:                Tue, 13 May 2025   Prob (F-statistic):              0.756\n",
            "Time:                        12:54:33   Log-Likelihood:                -37.099\n",
            "No. Observations:                  23   AIC:                             80.20\n",
            "Df Residuals:                      20   BIC:                             83.60\n",
            "Df Model:                           2                                         \n",
            "Covariance Type:            nonrobust                                         \n",
            "==============================================================================\n",
            "                 coef    std err          t      P>|t|      [0.025      0.975]\n",
            "------------------------------------------------------------------------------\n",
            "Intercept      2.9192      1.455      2.007      0.058      -0.115       5.953\n",
            "stress         0.1431      0.195      0.732      0.473      -0.265       0.551\n",
            "income     -2.178e-05      0.000     -0.079      0.938      -0.001       0.001\n",
            "==============================================================================\n",
            "Omnibus:                        1.305   Durbin-Watson:                   0.651\n",
            "Prob(Omnibus):                  0.521   Jarque-Bera (JB):                1.168\n",
            "Skew:                          -0.410   Prob(JB):                        0.558\n",
            "Kurtosis:                       2.260   Cond. No.                     2.37e+04\n",
            "==============================================================================\n",
            "\n",
            "Notes:\n",
            "[1] Standard Errors assume that the covariance matrix of the errors is correctly specified.\n",
            "[2] The condition number is large, 2.37e+04. This might indicate that there are\n",
            "strong multicollinearity or other numerical problems.\n"
          ]
        }
      ]
    },
    {
      "cell_type": "code",
      "source": [
        "model6 = smf.ols(formula = 'jobSatisfaction~ stress', data = df2)\n",
        "result= model6.fit()\n",
        "print(result.summary())"
      ],
      "metadata": {
        "colab": {
          "base_uri": "https://localhost:8080/"
        },
        "id": "w7LadQfktkHS",
        "outputId": "1f93c044-74d5-4953-8f6a-e05227c95cb0"
      },
      "execution_count": null,
      "outputs": [
        {
          "output_type": "stream",
          "name": "stdout",
          "text": [
            "                            OLS Regression Results                            \n",
            "==============================================================================\n",
            "Dep. Variable:        jobSatisfaction   R-squared:                       0.027\n",
            "Model:                            OLS   Adj. R-squared:                 -0.019\n",
            "Method:                 Least Squares   F-statistic:                    0.5902\n",
            "Date:                Tue, 13 May 2025   Prob (F-statistic):              0.451\n",
            "Time:                        12:55:17   Log-Likelihood:                -37.102\n",
            "No. Observations:                  23   AIC:                             78.20\n",
            "Df Residuals:                      21   BIC:                             80.48\n",
            "Df Model:                           1                                         \n",
            "Covariance Type:            nonrobust                                         \n",
            "==============================================================================\n",
            "                 coef    std err          t      P>|t|      [0.025      0.975]\n",
            "------------------------------------------------------------------------------\n",
            "Intercept      2.8183      0.686      4.108      0.001       1.392       4.245\n",
            "stress         0.1452      0.189      0.768      0.451      -0.248       0.538\n",
            "==============================================================================\n",
            "Omnibus:                        1.339   Durbin-Watson:                   0.656\n",
            "Prob(Omnibus):                  0.512   Jarque-Bera (JB):                1.167\n",
            "Skew:                          -0.391   Prob(JB):                        0.558\n",
            "Kurtosis:                       2.222   Cond. No.                         10.0\n",
            "==============================================================================\n",
            "\n",
            "Notes:\n",
            "[1] Standard Errors assume that the covariance matrix of the errors is correctly specified.\n"
          ]
        }
      ]
    },
    {
      "cell_type": "code",
      "source": [
        "model7 = smf.ols(formula = 'jobSatisfaction~income', data = df2)\n",
        "result= model7.fit()\n",
        "print(result.summary())"
      ],
      "metadata": {
        "colab": {
          "base_uri": "https://localhost:8080/"
        },
        "id": "ur_XXPJOtsg2",
        "outputId": "71a434b3-9e29-48e5-8867-bae573421613"
      },
      "execution_count": null,
      "outputs": [
        {
          "output_type": "stream",
          "name": "stdout",
          "text": [
            "                            OLS Regression Results                            \n",
            "==============================================================================\n",
            "Dep. Variable:        jobSatisfaction   R-squared:                       0.002\n",
            "Model:                            OLS   Adj. R-squared:                 -0.046\n",
            "Method:                 Least Squares   F-statistic:                   0.03384\n",
            "Date:                Tue, 13 May 2025   Prob (F-statistic):              0.856\n",
            "Time:                        12:55:34   Log-Likelihood:                -37.402\n",
            "No. Observations:                  23   AIC:                             78.80\n",
            "Df Residuals:                      21   BIC:                             81.08\n",
            "Df Model:                           1                                         \n",
            "Covariance Type:            nonrobust                                         \n",
            "==============================================================================\n",
            "                 coef    std err          t      P>|t|      [0.025      0.975]\n",
            "------------------------------------------------------------------------------\n",
            "Intercept      3.5175      1.190      2.957      0.008       1.044       5.992\n",
            "income     -4.953e-05      0.000     -0.184      0.856      -0.001       0.001\n",
            "==============================================================================\n",
            "Omnibus:                        1.011   Durbin-Watson:                   0.623\n",
            "Prob(Omnibus):                  0.603   Jarque-Bera (JB):                0.874\n",
            "Skew:                          -0.230   Prob(JB):                        0.646\n",
            "Kurtosis:                       2.163   Cond. No.                     1.96e+04\n",
            "==============================================================================\n",
            "\n",
            "Notes:\n",
            "[1] Standard Errors assume that the covariance matrix of the errors is correctly specified.\n",
            "[2] The condition number is large, 1.96e+04. This might indicate that there are\n",
            "strong multicollinearity or other numerical problems.\n"
          ]
        }
      ]
    },
    {
      "cell_type": "code",
      "source": [],
      "metadata": {
        "id": "0F_A8FdEtyn2"
      },
      "execution_count": null,
      "outputs": []
    }
  ]
}