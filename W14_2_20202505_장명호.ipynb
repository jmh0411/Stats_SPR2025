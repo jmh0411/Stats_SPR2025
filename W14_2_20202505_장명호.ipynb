{
  "nbformat": 4,
  "nbformat_minor": 0,
  "metadata": {
    "colab": {
      "provenance": [],
      "authorship_tag": "ABX9TyPxXCp8VVOr+izCufrOJ1eN",
      "include_colab_link": true
    },
    "kernelspec": {
      "name": "python3",
      "display_name": "Python 3"
    },
    "language_info": {
      "name": "python"
    }
  },
  "cells": [
    {
      "cell_type": "markdown",
      "metadata": {
        "id": "view-in-github",
        "colab_type": "text"
      },
      "source": [
        "<a href=\"https://colab.research.google.com/github/jmh0411/Stats_SPR2025/blob/main/W14_2_20202505_%EC%9E%A5%EB%AA%85%ED%98%B8.ipynb\" target=\"_parent\"><img src=\"https://colab.research.google.com/assets/colab-badge.svg\" alt=\"Open In Colab\"/></a>"
      ]
    },
    {
      "cell_type": "code",
      "source": [
        "from PIL import Image\n",
        "img = Image.open(r\"C:\\Users\\USER\\Desktop\\new_image_path.jpg\")\n",
        "\n",
        "new_size = (300, 300)\n",
        "resized_img = img.resize(new_size)\n",
        "\n",
        "resized_img = img.rotate(45)\n",
        "\n",
        "bw_img = img.convert(\"L\")\n",
        "\n",
        "left, upper, right, lower = 100, 100, 400, 400\n",
        "cropped_img = img.crop((left, upper, right, lower))\n",
        "\n",
        "cropped_img.show()\n",
        "\n",
        "cropped_img.save(\"cropped_img.jpg\")\n"
      ],
      "metadata": {
        "colab": {
          "base_uri": "https://localhost:8080/",
          "height": 346
        },
        "id": "EVE3BjYQNgVK",
        "outputId": "133c09e4-9ac2-4c75-daec-4aec708a152a"
      },
      "execution_count": 2,
      "outputs": [
        {
          "output_type": "error",
          "ename": "FileNotFoundError",
          "evalue": "[Errno 2] No such file or directory: 'C:\\\\Users\\\\USER\\\\Desktop\\\\new_image_path.jpg'",
          "traceback": [
            "\u001b[0;31m---------------------------------------------------------------------------\u001b[0m",
            "\u001b[0;31mFileNotFoundError\u001b[0m                         Traceback (most recent call last)",
            "\u001b[0;32m<ipython-input-2-0a6573704208>\u001b[0m in \u001b[0;36m<cell line: 0>\u001b[0;34m()\u001b[0m\n\u001b[1;32m      1\u001b[0m \u001b[0;32mfrom\u001b[0m \u001b[0mPIL\u001b[0m \u001b[0;32mimport\u001b[0m \u001b[0mImage\u001b[0m\u001b[0;34m\u001b[0m\u001b[0;34m\u001b[0m\u001b[0m\n\u001b[0;32m----> 2\u001b[0;31m \u001b[0mimg\u001b[0m \u001b[0;34m=\u001b[0m \u001b[0mImage\u001b[0m\u001b[0;34m.\u001b[0m\u001b[0mopen\u001b[0m\u001b[0;34m(\u001b[0m\u001b[0;34mr\"C:\\Users\\USER\\Desktop\\new_image_path.jpg\"\u001b[0m\u001b[0;34m)\u001b[0m\u001b[0;34m\u001b[0m\u001b[0;34m\u001b[0m\u001b[0m\n\u001b[0m\u001b[1;32m      3\u001b[0m \u001b[0;34m\u001b[0m\u001b[0m\n\u001b[1;32m      4\u001b[0m \u001b[0mnew_size\u001b[0m \u001b[0;34m=\u001b[0m \u001b[0;34m(\u001b[0m\u001b[0;36m300\u001b[0m\u001b[0;34m,\u001b[0m \u001b[0;36m300\u001b[0m\u001b[0;34m)\u001b[0m\u001b[0;34m\u001b[0m\u001b[0;34m\u001b[0m\u001b[0m\n\u001b[1;32m      5\u001b[0m \u001b[0mresized_img\u001b[0m \u001b[0;34m=\u001b[0m \u001b[0mimg\u001b[0m\u001b[0;34m.\u001b[0m\u001b[0mresize\u001b[0m\u001b[0;34m(\u001b[0m\u001b[0mnew_size\u001b[0m\u001b[0;34m)\u001b[0m\u001b[0;34m\u001b[0m\u001b[0;34m\u001b[0m\u001b[0m\n",
            "\u001b[0;32m/usr/local/lib/python3.11/dist-packages/PIL/Image.py\u001b[0m in \u001b[0;36mopen\u001b[0;34m(fp, mode, formats)\u001b[0m\n\u001b[1;32m   3503\u001b[0m \u001b[0;34m\u001b[0m\u001b[0m\n\u001b[1;32m   3504\u001b[0m     \u001b[0;32mif\u001b[0m \u001b[0mfilename\u001b[0m\u001b[0;34m:\u001b[0m\u001b[0;34m\u001b[0m\u001b[0;34m\u001b[0m\u001b[0m\n\u001b[0;32m-> 3505\u001b[0;31m         \u001b[0mfp\u001b[0m \u001b[0;34m=\u001b[0m \u001b[0mbuiltins\u001b[0m\u001b[0;34m.\u001b[0m\u001b[0mopen\u001b[0m\u001b[0;34m(\u001b[0m\u001b[0mfilename\u001b[0m\u001b[0;34m,\u001b[0m \u001b[0;34m\"rb\"\u001b[0m\u001b[0;34m)\u001b[0m\u001b[0;34m\u001b[0m\u001b[0;34m\u001b[0m\u001b[0m\n\u001b[0m\u001b[1;32m   3506\u001b[0m         \u001b[0mexclusive_fp\u001b[0m \u001b[0;34m=\u001b[0m \u001b[0;32mTrue\u001b[0m\u001b[0;34m\u001b[0m\u001b[0;34m\u001b[0m\u001b[0m\n\u001b[1;32m   3507\u001b[0m     \u001b[0;32melse\u001b[0m\u001b[0;34m:\u001b[0m\u001b[0;34m\u001b[0m\u001b[0;34m\u001b[0m\u001b[0m\n",
            "\u001b[0;31mFileNotFoundError\u001b[0m: [Errno 2] No such file or directory: 'C:\\\\Users\\\\USER\\\\Desktop\\\\new_image_path.jpg'"
          ]
        }
      ]
    },
    {
      "cell_type": "code",
      "execution_count": 3,
      "metadata": {
        "colab": {
          "base_uri": "https://localhost:8080/",
          "height": 346
        },
        "id": "b-1vs-j10PXP",
        "outputId": "fbb847c5-b873-4e6f-dc18-13cce3937c0f"
      },
      "outputs": [
        {
          "output_type": "error",
          "ename": "TclError",
          "evalue": "no display name and no $DISPLAY environment variable",
          "traceback": [
            "\u001b[0;31m---------------------------------------------------------------------------\u001b[0m",
            "\u001b[0;31mTclError\u001b[0m                                  Traceback (most recent call last)",
            "\u001b[0;32m<ipython-input-3-eb579884eb5f>\u001b[0m in \u001b[0;36m<cell line: 0>\u001b[0;34m()\u001b[0m\n\u001b[1;32m      4\u001b[0m     \u001b[0mlabel\u001b[0m\u001b[0;34m.\u001b[0m\u001b[0mconfig\u001b[0m\u001b[0;34m(\u001b[0m\u001b[0mtext\u001b[0m\u001b[0;34m=\u001b[0m\u001b[0;34m\"Hello! \"\u001b[0m \u001b[0;34m+\u001b[0m \u001b[0mname_entry\u001b[0m\u001b[0;34m.\u001b[0m\u001b[0mget\u001b[0m\u001b[0;34m(\u001b[0m\u001b[0;34m)\u001b[0m \u001b[0;34m+\u001b[0m \u001b[0;34m\"!\"\u001b[0m\u001b[0;34m)\u001b[0m\u001b[0;34m\u001b[0m\u001b[0;34m\u001b[0m\u001b[0m\n\u001b[1;32m      5\u001b[0m \u001b[0;34m\u001b[0m\u001b[0m\n\u001b[0;32m----> 6\u001b[0;31m \u001b[0mroot\u001b[0m \u001b[0;34m=\u001b[0m \u001b[0mtk\u001b[0m\u001b[0;34m.\u001b[0m\u001b[0mTk\u001b[0m\u001b[0;34m(\u001b[0m\u001b[0;34m)\u001b[0m\u001b[0;34m\u001b[0m\u001b[0;34m\u001b[0m\u001b[0m\n\u001b[0m\u001b[1;32m      7\u001b[0m \u001b[0;34m\u001b[0m\u001b[0m\n\u001b[1;32m      8\u001b[0m \u001b[0mroot\u001b[0m\u001b[0;34m.\u001b[0m\u001b[0mtitle\u001b[0m\u001b[0;34m(\u001b[0m\u001b[0;34m\"my First tkinter App\"\u001b[0m\u001b[0;34m)\u001b[0m\u001b[0;34m\u001b[0m\u001b[0;34m\u001b[0m\u001b[0m\n",
            "\u001b[0;32m/usr/lib/python3.11/tkinter/__init__.py\u001b[0m in \u001b[0;36m__init__\u001b[0;34m(self, screenName, baseName, className, useTk, sync, use)\u001b[0m\n\u001b[1;32m   2324\u001b[0m                 \u001b[0mbaseName\u001b[0m \u001b[0;34m=\u001b[0m \u001b[0mbaseName\u001b[0m \u001b[0;34m+\u001b[0m \u001b[0mext\u001b[0m\u001b[0;34m\u001b[0m\u001b[0;34m\u001b[0m\u001b[0m\n\u001b[1;32m   2325\u001b[0m         \u001b[0minteractive\u001b[0m \u001b[0;34m=\u001b[0m \u001b[0;32mFalse\u001b[0m\u001b[0;34m\u001b[0m\u001b[0;34m\u001b[0m\u001b[0m\n\u001b[0;32m-> 2326\u001b[0;31m         \u001b[0mself\u001b[0m\u001b[0;34m.\u001b[0m\u001b[0mtk\u001b[0m \u001b[0;34m=\u001b[0m \u001b[0m_tkinter\u001b[0m\u001b[0;34m.\u001b[0m\u001b[0mcreate\u001b[0m\u001b[0;34m(\u001b[0m\u001b[0mscreenName\u001b[0m\u001b[0;34m,\u001b[0m \u001b[0mbaseName\u001b[0m\u001b[0;34m,\u001b[0m \u001b[0mclassName\u001b[0m\u001b[0;34m,\u001b[0m \u001b[0minteractive\u001b[0m\u001b[0;34m,\u001b[0m \u001b[0mwantobjects\u001b[0m\u001b[0;34m,\u001b[0m \u001b[0museTk\u001b[0m\u001b[0;34m,\u001b[0m \u001b[0msync\u001b[0m\u001b[0;34m,\u001b[0m \u001b[0muse\u001b[0m\u001b[0;34m)\u001b[0m\u001b[0;34m\u001b[0m\u001b[0;34m\u001b[0m\u001b[0m\n\u001b[0m\u001b[1;32m   2327\u001b[0m         \u001b[0;32mif\u001b[0m \u001b[0museTk\u001b[0m\u001b[0;34m:\u001b[0m\u001b[0;34m\u001b[0m\u001b[0;34m\u001b[0m\u001b[0m\n\u001b[1;32m   2328\u001b[0m             \u001b[0mself\u001b[0m\u001b[0;34m.\u001b[0m\u001b[0m_loadtk\u001b[0m\u001b[0;34m(\u001b[0m\u001b[0;34m)\u001b[0m\u001b[0;34m\u001b[0m\u001b[0;34m\u001b[0m\u001b[0m\n",
            "\u001b[0;31mTclError\u001b[0m: no display name and no $DISPLAY environment variable"
          ]
        }
      ],
      "source": [
        "import tkinter as  tk\n",
        "\n",
        "def on_button_click():\n",
        "    label.config(text=\"Hello! \" + name_entry.get() + \"!\")\n",
        "\n",
        "root = tk.Tk()\n",
        "\n",
        "root.title(\"my First tkinter App\")\n",
        "root.geometry(\"300x300\")\n",
        "\n",
        "\n",
        "label = tk.Label(root, text=\"안녕 나는 팅커야!\")\n",
        "label.pack(pady=20)\n",
        "\n",
        "button = tk.Button(root, text=\"Click Me!\", command=on_button_click)\n",
        "button.pack(pady=10)\n",
        "\n",
        "name_entry = tk.Entry(root)\n",
        "name_entry.pack(pady=20)\n",
        "\n",
        "root.mainloop()\n"
      ]
    },
    {
      "cell_type": "code",
      "source": [
        "for dan in range(2, 20):  # 2단부터 19단까지\n",
        "    print(f\"--- {dan}단 ---\")\n",
        "    for i in range(1, 10):  # 1부터 9까지 곱함\n",
        "        print(f\"{dan} x {i} = {dan * i}\")\n",
        "    print()  # 단 사이에 한 줄 띄우기"
      ],
      "metadata": {
        "id": "hrfpzRzOV1rg"
      },
      "execution_count": null,
      "outputs": []
    },
    {
      "cell_type": "code",
      "source": [
        "pip install google scholarly\n",
        "\n",
        "\n",
        "from scholarly import scholarly\n",
        "\n",
        "# 연구자 이름으로 검색\n",
        "search_query = scholarly.search_author('김종오')\n",
        "\n",
        "# 첫 번째 검색 결과 가져오기\n",
        "author = next(search_query)\n",
        "\n",
        "# 저자의 논문 목록 가져오기\n",
        "author_filled = scholarly.fill(author)\n",
        "\n",
        "# 논문 제목 출력\n",
        "print(f\"논문 목록 - {author_filled['name']}:\")\n",
        "for pub in author_filled['publications']:\n",
        "    print(pub['bib']['title'])"
      ],
      "metadata": {
        "colab": {
          "base_uri": "https://localhost:8080/",
          "height": 110
        },
        "id": "lCtX-D3yWGAR",
        "outputId": "67f7a299-4b44-412f-cb00-2e82d873c077"
      },
      "execution_count": 9,
      "outputs": [
        {
          "output_type": "error",
          "ename": "SyntaxError",
          "evalue": "invalid syntax (<ipython-input-9-813d6a5f0f0c>, line 1)",
          "traceback": [
            "\u001b[0;36m  File \u001b[0;32m\"<ipython-input-9-813d6a5f0f0c>\"\u001b[0;36m, line \u001b[0;32m1\u001b[0m\n\u001b[0;31m    pip install google scholarly\u001b[0m\n\u001b[0m        ^\u001b[0m\n\u001b[0;31mSyntaxError\u001b[0m\u001b[0;31m:\u001b[0m invalid syntax\n"
          ]
        }
      ]
    },
    {
      "cell_type": "code",
      "source": [
        "import requests\n",
        "from bs4 import BeautifulSoup\n",
        "from urllib.parse import quote\n",
        "\n",
        "# 검색어 설정\n",
        "query = \"김종오\"\n",
        "encoded_query = quote(query)\n",
        "\n",
        "# 검색 URL (Daum 뉴스)\n",
        "url = f\"https://search.daum.net/search?w=news&cluster=n&sort=recency&q={encoded_query}\"\n",
        "\n",
        "# 요청 헤더 설정 (브라우저처럼 위장)\n",
        "headers = {\n",
        "    \"User-Agent\": \"Mozilla/5.0\"\n",
        "}\n",
        "\n",
        "# HTTP 요청\n",
        "response = requests.get(url, headers=headers)\n",
        "soup = BeautifulSoup(response.text, \"html.parser\")\n",
        "\n",
        "# 뉴스 제목 수집\n",
        "titles = soup.select(\"a.f_link_b\")\n",
        "\n",
        "print(f\"[Daum 뉴스] '{query}' 검색 결과:\")\n",
        "for i, title in enumerate(titles, start=1):\n",
        "    print(f\"{i}. {title.text.strip()}\")\n"
      ],
      "metadata": {
        "colab": {
          "base_uri": "https://localhost:8080/"
        },
        "id": "nV3B-aHhXNnz",
        "outputId": "bb64119d-5278-413f-e49b-2c583a30c0e7"
      },
      "execution_count": 7,
      "outputs": [
        {
          "output_type": "stream",
          "name": "stdout",
          "text": [
            "[Daum 뉴스] '김종오' 검색 결과:\n"
          ]
        }
      ]
    },
    {
      "cell_type": "code",
      "source": [
        "import tkinter as tk\n",
        "\n",
        "def click(btn_text):\n",
        "    current = entry.get()\n",
        "    entry.delete(0, tk.END)\n",
        "    entry.insert(0, current + btn_text)\n",
        "\n",
        "def clear():\n",
        "    entry.delete(0, tk.END)\n",
        "\n",
        "def calculate():\n",
        "    try:\n",
        "        result = eval(entry.get())\n",
        "        entry.delete(0, tk.END)\n",
        "        entry.insert(0, str(result))\n",
        "    except Exception:\n",
        "        entry.delete(0, tk.END)\n",
        "        entry.insert(0, \"오류\")\n",
        "\n",
        "# GUI 기본 설정\n",
        "root = tk.Tk()\n",
        "root.title(\"4칙 연산 계산기\")\n",
        "\n",
        "entry = tk.Entry(root, width=25, font=(\"Arial\", 16), justify=\"right\")\n",
        "entry.grid(row=0, column=0, columnspan=4, padx=10, pady=10)\n",
        "\n",
        "# 버튼 레이아웃\n",
        "buttons = [\n",
        "    \"7\", \"8\", \"9\", \"/\",\n",
        "    \"4\", \"5\", \"6\", \"*\",\n",
        "    \"1\", \"2\", \"3\", \"-\",\n",
        "    \"0\", \"C\", \"=\", \"+\"\n",
        "]\n",
        "\n",
        "# 버튼 생성\n",
        "row = 1\n",
        "col = 0\n",
        "for btn in buttons:\n",
        "    action = lambda x=btn: (\n",
        "        calculate() if x == \"=\" else\n",
        "        clear() if x == \"C\" else\n",
        "        click(x)\n",
        "    )\n",
        "    tk.Button(root, text=btn, width=5, height=2, font=(\"Arial\", 14),\n",
        "              command=action).grid(row=row, column=col, padx=5, pady=5)\n",
        "    col += 1\n",
        "    if col > 3:\n",
        "        col = 0\n",
        "        row += 1\n",
        "\n",
        "root.mainloop()"
      ],
      "metadata": {
        "colab": {
          "base_uri": "https://localhost:8080/",
          "height": 346
        },
        "id": "CcAvPrZ9XivJ",
        "outputId": "db07417a-b525-4226-9a3a-45a57754119b"
      },
      "execution_count": 11,
      "outputs": [
        {
          "output_type": "error",
          "ename": "TclError",
          "evalue": "no display name and no $DISPLAY environment variable",
          "traceback": [
            "\u001b[0;31m---------------------------------------------------------------------------\u001b[0m",
            "\u001b[0;31mTclError\u001b[0m                                  Traceback (most recent call last)",
            "\u001b[0;32m<ipython-input-11-6be48da5ec0e>\u001b[0m in \u001b[0;36m<cell line: 0>\u001b[0;34m()\u001b[0m\n\u001b[1;32m     19\u001b[0m \u001b[0;34m\u001b[0m\u001b[0m\n\u001b[1;32m     20\u001b[0m \u001b[0;31m# GUI 기본 설정\u001b[0m\u001b[0;34m\u001b[0m\u001b[0;34m\u001b[0m\u001b[0m\n\u001b[0;32m---> 21\u001b[0;31m \u001b[0mroot\u001b[0m \u001b[0;34m=\u001b[0m \u001b[0mtk\u001b[0m\u001b[0;34m.\u001b[0m\u001b[0mTk\u001b[0m\u001b[0;34m(\u001b[0m\u001b[0;34m)\u001b[0m\u001b[0;34m\u001b[0m\u001b[0;34m\u001b[0m\u001b[0m\n\u001b[0m\u001b[1;32m     22\u001b[0m \u001b[0mroot\u001b[0m\u001b[0;34m.\u001b[0m\u001b[0mtitle\u001b[0m\u001b[0;34m(\u001b[0m\u001b[0;34m\"4칙 연산 계산기\"\u001b[0m\u001b[0;34m)\u001b[0m\u001b[0;34m\u001b[0m\u001b[0;34m\u001b[0m\u001b[0m\n\u001b[1;32m     23\u001b[0m \u001b[0;34m\u001b[0m\u001b[0m\n",
            "\u001b[0;32m/usr/lib/python3.11/tkinter/__init__.py\u001b[0m in \u001b[0;36m__init__\u001b[0;34m(self, screenName, baseName, className, useTk, sync, use)\u001b[0m\n\u001b[1;32m   2324\u001b[0m                 \u001b[0mbaseName\u001b[0m \u001b[0;34m=\u001b[0m \u001b[0mbaseName\u001b[0m \u001b[0;34m+\u001b[0m \u001b[0mext\u001b[0m\u001b[0;34m\u001b[0m\u001b[0;34m\u001b[0m\u001b[0m\n\u001b[1;32m   2325\u001b[0m         \u001b[0minteractive\u001b[0m \u001b[0;34m=\u001b[0m \u001b[0;32mFalse\u001b[0m\u001b[0;34m\u001b[0m\u001b[0;34m\u001b[0m\u001b[0m\n\u001b[0;32m-> 2326\u001b[0;31m         \u001b[0mself\u001b[0m\u001b[0;34m.\u001b[0m\u001b[0mtk\u001b[0m \u001b[0;34m=\u001b[0m \u001b[0m_tkinter\u001b[0m\u001b[0;34m.\u001b[0m\u001b[0mcreate\u001b[0m\u001b[0;34m(\u001b[0m\u001b[0mscreenName\u001b[0m\u001b[0;34m,\u001b[0m \u001b[0mbaseName\u001b[0m\u001b[0;34m,\u001b[0m \u001b[0mclassName\u001b[0m\u001b[0;34m,\u001b[0m \u001b[0minteractive\u001b[0m\u001b[0;34m,\u001b[0m \u001b[0mwantobjects\u001b[0m\u001b[0;34m,\u001b[0m \u001b[0museTk\u001b[0m\u001b[0;34m,\u001b[0m \u001b[0msync\u001b[0m\u001b[0;34m,\u001b[0m \u001b[0muse\u001b[0m\u001b[0;34m)\u001b[0m\u001b[0;34m\u001b[0m\u001b[0;34m\u001b[0m\u001b[0m\n\u001b[0m\u001b[1;32m   2327\u001b[0m         \u001b[0;32mif\u001b[0m \u001b[0museTk\u001b[0m\u001b[0;34m:\u001b[0m\u001b[0;34m\u001b[0m\u001b[0;34m\u001b[0m\u001b[0m\n\u001b[1;32m   2328\u001b[0m             \u001b[0mself\u001b[0m\u001b[0;34m.\u001b[0m\u001b[0m_loadtk\u001b[0m\u001b[0;34m(\u001b[0m\u001b[0;34m)\u001b[0m\u001b[0;34m\u001b[0m\u001b[0;34m\u001b[0m\u001b[0m\n",
            "\u001b[0;31mTclError\u001b[0m: no display name and no $DISPLAY environment variable"
          ]
        }
      ]
    },
    {
      "cell_type": "code",
      "source": [
        "import tkinter as tk\n",
        "\n",
        "def click(btn_text):\n",
        "    if entry.get() == \"오류\":\n",
        "        entry.delete(0, tk.END)\n",
        "    entry.insert(tk.END, btn_text)\n",
        "\n",
        "def clear():\n",
        "    entry.delete(0, tk.END)\n",
        "\n",
        "def calculate():\n",
        "    try:\n",
        "        expression = entry.get()\n",
        "        result = eval(expression)\n",
        "        entry.delete(0, tk.END)\n",
        "        entry.insert(0, str(result))\n",
        "    except:\n",
        "        entry.delete(0, tk.END)\n",
        "        entry.insert(0, \"오류\")\n",
        "\n",
        "# 윈도우 생성\n",
        "root = tk.Tk()\n",
        "root.title(\"4칙 연산 계산기\")\n",
        "\n",
        "# 입력창\n",
        "entry = tk.Entry(root, width=25, font=(\"Arial\", 18), bd=5, relief=\"ridge\", justify=\"right\")\n",
        "entry.grid(row=0, column=0, columnspan=4, padx=10, pady=10)\n",
        "\n",
        "# 버튼 구성\n",
        "buttons = [\n",
        "    ('7', 1, 0), ('8', 1, 1), ('9', 1, 2), ('/', 1, 3),\n",
        "    ('4', 2, 0), ('5', 2, 1), ('6', 2, 2), ('*', 2, 3),\n",
        "    ('1', 3, 0), ('2', 3, 1), ('3', 3, 2), ('-', 3, 3),\n",
        "    ('0', 4, 0), ('C', 4, 1), ('=', 4, 2), ('+', 4, 3)\n",
        "]\n",
        "\n",
        "# 버튼 생성 및 배치\n",
        "for (text, row, col) in buttons:\n",
        "    if text == \"=\":\n",
        "        action = calculate\n",
        "    elif text == \"C\":\n",
        "        action = clear\n",
        "    else:\n",
        "        action = lambda x=text: click(x)\n",
        "\n",
        "    tk.Button(root, text=text, width=5, height=2, font=(\"Arial\", 16),\n",
        "              command=action).grid(row=row, column=col, padx=5, pady=5)\n",
        "\n",
        "root.mainloop()\n"
      ],
      "metadata": {
        "colab": {
          "base_uri": "https://localhost:8080/",
          "height": 346
        },
        "id": "1B89RD_BXu0R",
        "outputId": "b998e576-9599-4c08-f734-8a1c2edf6710"
      },
      "execution_count": 12,
      "outputs": [
        {
          "output_type": "error",
          "ename": "TclError",
          "evalue": "no display name and no $DISPLAY environment variable",
          "traceback": [
            "\u001b[0;31m---------------------------------------------------------------------------\u001b[0m",
            "\u001b[0;31mTclError\u001b[0m                                  Traceback (most recent call last)",
            "\u001b[0;32m<ipython-input-12-6cd5ae201147>\u001b[0m in \u001b[0;36m<cell line: 0>\u001b[0;34m()\u001b[0m\n\u001b[1;32m     20\u001b[0m \u001b[0;34m\u001b[0m\u001b[0m\n\u001b[1;32m     21\u001b[0m \u001b[0;31m# 윈도우 생성\u001b[0m\u001b[0;34m\u001b[0m\u001b[0;34m\u001b[0m\u001b[0m\n\u001b[0;32m---> 22\u001b[0;31m \u001b[0mroot\u001b[0m \u001b[0;34m=\u001b[0m \u001b[0mtk\u001b[0m\u001b[0;34m.\u001b[0m\u001b[0mTk\u001b[0m\u001b[0;34m(\u001b[0m\u001b[0;34m)\u001b[0m\u001b[0;34m\u001b[0m\u001b[0;34m\u001b[0m\u001b[0m\n\u001b[0m\u001b[1;32m     23\u001b[0m \u001b[0mroot\u001b[0m\u001b[0;34m.\u001b[0m\u001b[0mtitle\u001b[0m\u001b[0;34m(\u001b[0m\u001b[0;34m\"4칙 연산 계산기\"\u001b[0m\u001b[0;34m)\u001b[0m\u001b[0;34m\u001b[0m\u001b[0;34m\u001b[0m\u001b[0m\n\u001b[1;32m     24\u001b[0m \u001b[0;34m\u001b[0m\u001b[0m\n",
            "\u001b[0;32m/usr/lib/python3.11/tkinter/__init__.py\u001b[0m in \u001b[0;36m__init__\u001b[0;34m(self, screenName, baseName, className, useTk, sync, use)\u001b[0m\n\u001b[1;32m   2324\u001b[0m                 \u001b[0mbaseName\u001b[0m \u001b[0;34m=\u001b[0m \u001b[0mbaseName\u001b[0m \u001b[0;34m+\u001b[0m \u001b[0mext\u001b[0m\u001b[0;34m\u001b[0m\u001b[0;34m\u001b[0m\u001b[0m\n\u001b[1;32m   2325\u001b[0m         \u001b[0minteractive\u001b[0m \u001b[0;34m=\u001b[0m \u001b[0;32mFalse\u001b[0m\u001b[0;34m\u001b[0m\u001b[0;34m\u001b[0m\u001b[0m\n\u001b[0;32m-> 2326\u001b[0;31m         \u001b[0mself\u001b[0m\u001b[0;34m.\u001b[0m\u001b[0mtk\u001b[0m \u001b[0;34m=\u001b[0m \u001b[0m_tkinter\u001b[0m\u001b[0;34m.\u001b[0m\u001b[0mcreate\u001b[0m\u001b[0;34m(\u001b[0m\u001b[0mscreenName\u001b[0m\u001b[0;34m,\u001b[0m \u001b[0mbaseName\u001b[0m\u001b[0;34m,\u001b[0m \u001b[0mclassName\u001b[0m\u001b[0;34m,\u001b[0m \u001b[0minteractive\u001b[0m\u001b[0;34m,\u001b[0m \u001b[0mwantobjects\u001b[0m\u001b[0;34m,\u001b[0m \u001b[0museTk\u001b[0m\u001b[0;34m,\u001b[0m \u001b[0msync\u001b[0m\u001b[0;34m,\u001b[0m \u001b[0muse\u001b[0m\u001b[0;34m)\u001b[0m\u001b[0;34m\u001b[0m\u001b[0;34m\u001b[0m\u001b[0m\n\u001b[0m\u001b[1;32m   2327\u001b[0m         \u001b[0;32mif\u001b[0m \u001b[0museTk\u001b[0m\u001b[0;34m:\u001b[0m\u001b[0;34m\u001b[0m\u001b[0;34m\u001b[0m\u001b[0m\n\u001b[1;32m   2328\u001b[0m             \u001b[0mself\u001b[0m\u001b[0;34m.\u001b[0m\u001b[0m_loadtk\u001b[0m\u001b[0;34m(\u001b[0m\u001b[0;34m)\u001b[0m\u001b[0;34m\u001b[0m\u001b[0;34m\u001b[0m\u001b[0m\n",
            "\u001b[0;31mTclError\u001b[0m: no display name and no $DISPLAY environment variable"
          ]
        }
      ]
    },
    {
      "cell_type": "code",
      "source": [
        "import pygame\n",
        "import sys\n",
        "\n",
        "pygame.init()\n",
        "\n",
        "# 화면 설정\n",
        "WIDTH, HEIGHT = 800, 600\n",
        "screen = pygame.display.set_mode((WIDTH, HEIGHT))\n",
        "pygame.display.set_caption(\"재밌는 그림 그리기\")\n",
        "\n",
        "# 색상 리스트 (RGB)\n",
        "colors = {\n",
        "    pygame.K_1: (255, 0, 0),    # 빨강\n",
        "    pygame.K_2: (0, 255, 0),    # 초록\n",
        "    pygame.K_3: (0, 0, 255),    # 파랑\n",
        "    pygame.K_4: (255, 255, 0),  # 노랑\n",
        "}\n",
        "current_color = (255, 0, 0)  # 기본 빨강\n",
        "\n",
        "# 배경 색\n",
        "bg_color = (30, 30, 30)\n",
        "\n",
        "# 원 리스트 (위치, 색깔, 반지름)\n",
        "circles = []\n",
        "\n",
        "# 메인 루프\n",
        "running = True\n",
        "while running:\n",
        "    for event in pygame.event.get():\n",
        "        if event.type == pygame.QUIT:\n",
        "            running = False\n",
        "\n",
        "        elif event.type == pygame.KEYDOWN:\n",
        "            if event.key == pygame.K_ESCAPE:\n",
        "                running = False\n",
        "            elif event.key in colors:\n",
        "                current_color = colors[event.key]\n",
        "                print(f\"색깔 변경: {current_color}\")\n",
        "\n",
        "        elif event.type == pygame.MOUSEBUTTONDOWN:\n",
        "            pos = pygame.mouse.get_pos()\n",
        "            radius = 30\n",
        "            circles.append((pos, current_color, radius))\n",
        "            print(f\"원 추가: 위치 {pos}, 색깔 {current_color}\")\n",
        "\n",
        "    # 배경 그리기\n",
        "    screen.fill(bg_color)\n",
        "\n",
        "    # 저장된 원들 그리기\n",
        "    for pos, color, radius in circles:\n",
        "        pygame.draw.circle(screen, color, pos, radius)\n",
        "\n",
        "    pygame.display.flip()\n",
        "\n",
        "pygame.quit()\n",
        "sys.exit()\n"
      ],
      "metadata": {
        "colab": {
          "base_uri": "https://localhost:8080/"
        },
        "id": "7u2lZRC1YY4H",
        "outputId": "e6830431-d4ce-4876-8833-0be8fc1aaac1"
      },
      "execution_count": null,
      "outputs": [
        {
          "output_type": "stream",
          "name": "stdout",
          "text": [
            "pygame 2.6.1 (SDL 2.28.4, Python 3.11.12)\n",
            "Hello from the pygame community. https://www.pygame.org/contribute.html\n"
          ]
        }
      ]
    }
  ]
}