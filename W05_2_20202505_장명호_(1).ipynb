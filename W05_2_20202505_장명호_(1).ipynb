{
  "nbformat": 4,
  "nbformat_minor": 0,
  "metadata": {
    "colab": {
      "provenance": [],
      "include_colab_link": true
    },
    "kernelspec": {
      "name": "python3",
      "display_name": "Python 3"
    },
    "language_info": {
      "name": "python"
    }
  },
  "cells": [
    {
      "cell_type": "markdown",
      "metadata": {
        "id": "view-in-github",
        "colab_type": "text"
      },
      "source": [
        "<a href=\"https://colab.research.google.com/github/jmh0411/Stats_SPR2025/blob/main/W05_2_20202505_%EC%9E%A5%EB%AA%85%ED%98%B8_(1).ipynb\" target=\"_parent\"><img src=\"https://colab.research.google.com/assets/colab-badge.svg\" alt=\"Open In Colab\"/></a>"
      ]
    },
    {
      "cell_type": "code",
      "execution_count": null,
      "metadata": {
        "id": "nnkUntS4t3jW"
      },
      "outputs": [],
      "source": [
        "import numpy as np"
      ]
    },
    {
      "cell_type": "code",
      "source": [
        "discounts  = 0.05\n",
        "cashflow = 100"
      ],
      "metadata": {
        "id": "rBPibp30S3lx"
      },
      "execution_count": null,
      "outputs": []
    },
    {
      "cell_type": "code",
      "source": [
        "def presentvalue(n):\n",
        "  return cashflow/((1+discounts)**n)"
      ],
      "metadata": {
        "id": "FApzRKZwTA2-"
      },
      "execution_count": null,
      "outputs": []
    },
    {
      "cell_type": "code",
      "source": [
        "presentvalue(1)"
      ],
      "metadata": {
        "colab": {
          "base_uri": "https://localhost:8080/"
        },
        "id": "3-4GvuLsTbUE",
        "outputId": "1f481f78-0532-4661-c357-d9941275f9ef"
      },
      "execution_count": null,
      "outputs": [
        {
          "output_type": "execute_result",
          "data": {
            "text/plain": [
              "95.23809523809524"
            ]
          },
          "metadata": {},
          "execution_count": 8
        }
      ]
    },
    {
      "cell_type": "code",
      "source": [
        "presentvalue(2)"
      ],
      "metadata": {
        "colab": {
          "base_uri": "https://localhost:8080/"
        },
        "id": "HYg09AdQTmBR",
        "outputId": "fdd16b9d-8557-45f6-ce23-c4744d919b7d"
      },
      "execution_count": null,
      "outputs": [
        {
          "output_type": "execute_result",
          "data": {
            "text/plain": [
              "90.70294784580499"
            ]
          },
          "metadata": {},
          "execution_count": 9
        }
      ]
    },
    {
      "cell_type": "code",
      "source": [
        "for i in range(20):\n",
        "  print(i, presentvalue(i))"
      ],
      "metadata": {
        "colab": {
          "base_uri": "https://localhost:8080/"
        },
        "id": "9zj52fazTpcF",
        "outputId": "56a27bcc-2450-44b8-b4c3-87426508b803"
      },
      "execution_count": null,
      "outputs": [
        {
          "output_type": "stream",
          "name": "stdout",
          "text": [
            "0 100.0\n",
            "1 95.23809523809524\n",
            "2 90.70294784580499\n",
            "3 86.3837598531476\n",
            "4 82.27024747918819\n",
            "5 78.35261664684589\n",
            "6 74.62153966366274\n",
            "7 71.06813301301213\n",
            "8 67.6839362028687\n",
            "9 64.46089162177971\n",
            "10 61.39132535407592\n",
            "11 58.46792890864373\n",
            "12 55.68374181775592\n",
            "13 53.03213506452945\n",
            "14 50.506795299551854\n",
            "15 48.101709809096995\n",
            "16 45.811152199140004\n",
            "17 43.62966876108571\n",
            "18 41.5520654867483\n",
            "19 39.57339570166504\n"
          ]
        }
      ]
    },
    {
      "cell_type": "code",
      "source": [
        "loss = [-750]\n",
        "profit = [100]*10\n",
        "profit"
      ],
      "metadata": {
        "colab": {
          "base_uri": "https://localhost:8080/"
        },
        "id": "y0a5SnKIUORS",
        "outputId": "c8fa3836-0623-494d-bbfb-be23de8777c3"
      },
      "execution_count": null,
      "outputs": [
        {
          "output_type": "execute_result",
          "data": {
            "text/plain": [
              "[100, 100, 100, 100, 100, 100, 100, 100, 100, 100]"
            ]
          },
          "metadata": {},
          "execution_count": 14
        }
      ]
    },
    {
      "cell_type": "code",
      "source": [
        "cf= loss+profit\n",
        "cf"
      ],
      "metadata": {
        "colab": {
          "base_uri": "https://localhost:8080/"
        },
        "id": "KiZc1pnuUX_e",
        "outputId": "2c602448-7013-4267-ebf7-b18c72bccb2a"
      },
      "execution_count": null,
      "outputs": [
        {
          "output_type": "execute_result",
          "data": {
            "text/plain": [
              "[-750, 100, 100, 100, 100, 100, 100, 100, 100, 100, 100]"
            ]
          },
          "metadata": {},
          "execution_count": 15
        }
      ]
    },
    {
      "cell_type": "code",
      "source": [
        "len(cf)"
      ],
      "metadata": {
        "colab": {
          "base_uri": "https://localhost:8080/"
        },
        "id": "vgL1OW-UUdKM",
        "outputId": "12b267ae-860c-4a06-df18-bdc909ef0399"
      },
      "execution_count": null,
      "outputs": [
        {
          "output_type": "execute_result",
          "data": {
            "text/plain": [
              "11"
            ]
          },
          "metadata": {},
          "execution_count": 16
        }
      ]
    },
    {
      "cell_type": "code",
      "source": [
        "cashflow = np.array(cf)\n",
        "cashflow"
      ],
      "metadata": {
        "colab": {
          "base_uri": "https://localhost:8080/"
        },
        "id": "zuw9GmXjUoGF",
        "outputId": "de9d2834-4498-406a-f323-13d0a2f62ff1"
      },
      "execution_count": null,
      "outputs": [
        {
          "output_type": "execute_result",
          "data": {
            "text/plain": [
              "array([-750,  100,  100,  100,  100,  100,  100,  100,  100,  100,  100])"
            ]
          },
          "metadata": {},
          "execution_count": 22
        }
      ]
    },
    {
      "cell_type": "code",
      "source": [
        "!pip install numpy-financial"
      ],
      "metadata": {
        "colab": {
          "base_uri": "https://localhost:8080/"
        },
        "id": "tpa_Fqi-VBMc",
        "outputId": "52703586-09f0-45f7-94a4-f712a8f4a2ab"
      },
      "execution_count": null,
      "outputs": [
        {
          "output_type": "stream",
          "name": "stdout",
          "text": [
            "Requirement already satisfied: numpy-financial in /usr/local/lib/python3.11/dist-packages (1.0.0)\n",
            "Requirement already satisfied: numpy>=1.15 in /usr/local/lib/python3.11/dist-packages (from numpy-financial) (2.0.2)\n"
          ]
        }
      ]
    },
    {
      "cell_type": "code",
      "source": [
        "import numpy_financial as npf"
      ],
      "metadata": {
        "id": "Aqz2bPbpU6EU"
      },
      "execution_count": null,
      "outputs": []
    },
    {
      "cell_type": "code",
      "source": [
        "npv = npf.npv(.045, cashflow)\n",
        "npv"
      ],
      "metadata": {
        "colab": {
          "base_uri": "https://localhost:8080/"
        },
        "id": "yu7REA3LVPXc",
        "outputId": "0e6d490f-83b0-4bf8-ae72-3c4fa16ce050"
      },
      "execution_count": null,
      "outputs": [
        {
          "output_type": "execute_result",
          "data": {
            "text/plain": [
              "np.float64(41.27181771101688)"
            ]
          },
          "metadata": {},
          "execution_count": 28
        }
      ]
    },
    {
      "cell_type": "code",
      "source": [
        "irr = npf.irr(cashflow)\n",
        "irr"
      ],
      "metadata": {
        "colab": {
          "base_uri": "https://localhost:8080/"
        },
        "id": "_UBqHTd_Vqh0",
        "outputId": "966a01dc-5f02-46cb-be9a-d3486cf57934"
      },
      "execution_count": null,
      "outputs": [
        {
          "output_type": "execute_result",
          "data": {
            "text/plain": [
              "0.05604463645158919"
            ]
          },
          "metadata": {},
          "execution_count": 30
        }
      ]
    },
    {
      "cell_type": "markdown",
      "source": [
        "npv는 현재 가치로 환산한 사업기간의 현금흐름 (발생하는 우익의 합이 투자비용과 비교) +면 사업 가치 있고, -면 사업 가치 없다."
      ],
      "metadata": {
        "id": "Kur6_0xYkzb_"
      }
    },
    {
      "cell_type": "markdown",
      "source": [
        "Irr은 npv를 0으로 만드는 할인율(시장이자율)이다. 즉, 향후 시장이자율이 irr보다 크면 사업성이 없다, 작으면 사업성이 있다."
      ],
      "metadata": {
        "id": "NJ_HLnv4lUhc"
      }
    },
    {
      "cell_type": "code",
      "source": [
        "cashflow"
      ],
      "metadata": {
        "colab": {
          "base_uri": "https://localhost:8080/"
        },
        "id": "VLcWsvhZl6bs",
        "outputId": "f4df6142-7b80-437e-bce5-87c10413e624"
      },
      "execution_count": null,
      "outputs": [
        {
          "output_type": "execute_result",
          "data": {
            "text/plain": [
              "array([-750,  100,  100,  100,  100,  100,  100,  100,  100,  100,  100])"
            ]
          },
          "metadata": {},
          "execution_count": 31
        }
      ]
    },
    {
      "cell_type": "code",
      "source": [
        "sum = -750\n",
        "n= 0\n",
        "r= 0.045\n",
        "for i in cashflow[1:]:\n",
        "  n+= 1\n",
        "  i = i/((1+r)**n)\n",
        "  sum += i\n",
        "  print(sum)"
      ],
      "metadata": {
        "colab": {
          "base_uri": "https://localhost:8080/"
        },
        "id": "sq38Fu7Jl9DU",
        "outputId": "e1a7772b-61c9-43ff-a7d0-b01ff1857f35"
      },
      "execution_count": null,
      "outputs": [
        {
          "output_type": "stream",
          "name": "stdout",
          "text": [
            "-654.3062200956938\n",
            "-562.7332249719558\n",
            "-475.10356456646485\n",
            "-391.2474302071434\n",
            "-311.002325557075\n",
            "-234.21275172925834\n",
            "-160.72990596101272\n",
            "-90.41139326412696\n",
            "-23.12095049198747\n",
            "41.27181771101682\n"
          ]
        }
      ]
    },
    {
      "cell_type": "code",
      "source": [
        "def npv1(r, cashflow):\n",
        "  sum = cashflow[0]\n",
        "  n= 0\n",
        "  for i in cashflow[1:]:\n",
        "    n+= 1\n",
        "    i = i/((1+r)**n)\n",
        "    sum += i\n",
        "  return sum"
      ],
      "metadata": {
        "id": "fCFGVnblnHSI"
      },
      "execution_count": null,
      "outputs": []
    },
    {
      "cell_type": "code",
      "source": [
        "npv1(0.045, cashflow)"
      ],
      "metadata": {
        "colab": {
          "base_uri": "https://localhost:8080/"
        },
        "id": "oWwfteUOnkdA",
        "outputId": "3371e1b1-774b-4fd4-cb8d-3e2760108f6a"
      },
      "execution_count": null,
      "outputs": [
        {
          "output_type": "execute_result",
          "data": {
            "text/plain": [
              "np.float64(41.27181771101682)"
            ]
          },
          "metadata": {},
          "execution_count": 41
        }
      ]
    },
    {
      "cell_type": "code",
      "source": [
        "npf.npv(.045,cashflow)"
      ],
      "metadata": {
        "colab": {
          "base_uri": "https://localhost:8080/"
        },
        "id": "XElGqBlEnsXH",
        "outputId": "fd6ce286-1b81-4d25-8a93-5cd4c649a379"
      },
      "execution_count": null,
      "outputs": [
        {
          "output_type": "execute_result",
          "data": {
            "text/plain": [
              "np.float64(41.27181771101688)"
            ]
          },
          "metadata": {},
          "execution_count": 42
        }
      ]
    }
  ]
}